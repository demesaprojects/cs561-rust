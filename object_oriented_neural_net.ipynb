{
  "cells": [
    {
      "cell_type": "markdown",
      "metadata": {
        "id": "view-in-github",
        "colab_type": "text"
      },
      "source": [
        "<a href=\"https://colab.research.google.com/github/demesaprojects/cs561-rust/blob/main/object_oriented_neural_net.ipynb\" target=\"_parent\"><img src=\"https://colab.research.google.com/assets/colab-badge.svg\" alt=\"Open In Colab\"/></a>"
      ]
    },
    {
      "cell_type": "code",
      "execution_count": null,
      "metadata": {
        "id": "DkxXP0fp3U2w"
      },
      "outputs": [],
      "source": [
        "class node:\n",
        "  def __init__(self, value):\n",
        "    if(type(value) is list or isinstance(value, int) or isinstance(value, float) or isinstance(value, np.ndarray) or type(value) is tuple):\n",
        "      self.value = value\n",
        "      # print(\"data format is of type\" +\" \"+ str(type(value)))\n",
        "      # print(\"sample/data unit shape is \" + str(np.shape(value)))\n",
        "\n",
        "    else:\n",
        "      print(\"NODE; node input is not of applicable type int, float or list, troubleshoot\" + \"input is of type:\" + str(type(value)) )\n",
        "\n",
        "   "
      ]
    },
    {
      "cell_type": "code",
      "execution_count": null,
      "metadata": {
        "id": "7gy35As2tJHo",
        "colab": {
          "base_uri": "https://localhost:8080/"
        },
        "outputId": "7b36e842-bb22-48e3-8488-ecf547d039b2"
      },
      "outputs": [
        {
          "output_type": "stream",
          "name": "stdout",
          "text": [
            "LAYER; layer input isn't of a VALID type\n",
            " input is of type:<class 'type'>\n"
          ]
        }
      ],
      "source": [
        "class layer(node):\n",
        "  global layer_value\n",
        "\n",
        "  if(type(node) is list or isinstance(node, int) or isinstance(node, float) or isinstance(node, np.ndarray)):\n",
        "      global layer_value\n",
        "      layer_value.extend(node)\n",
        "\n",
        "  else:\n",
        "       print(\"LAYER; layer input isn't of a VALID type\" + \"\\n input is of type:\" + str(type(node)))\n",
        "    \n",
        " \n",
        "  def add_node(self,node): \n",
        "    global layer_value \n",
        "    layer_value.append(node)\n",
        "    return layer_value\n",
        "\n",
        "    \n",
        "\n"
      ]
    },
    {
      "cell_type": "code",
      "execution_count": null,
      "metadata": {
        "id": "liQo57zPlAkw"
      },
      "outputs": [],
      "source": [
        "class model(layer):\n",
        "  global model_value\n",
        "  model_value = {}\n",
        "\n",
        "  #create model with single layer: key, model_value\n",
        "  def __init__(self,key,input):\n",
        "    if(type(input) is layer and isinstance(key, string_types)):\n",
        "      global model_value\n",
        "      model_value[key]= input\n",
        "    else:\n",
        "      print(\"MODEL; model not initialized, input is of type\" + type(input)) \n",
        "      print(\"MODEL; model not initialized, key is of type\" + type(key))\n",
        "      \n",
        "   \n",
        "  # def __init__(self,**kwargs):\n",
        "\n",
        "   \n",
        "  # def __init__(self,**kwargs): #args receives unlimited no. of arguments as an array\n",
        "  #   self.speed = kwargs['s'] #access args index like array does\n",
        "  #   self.color = kwargs['c']\n",
        "\n",
        "\n",
        "  #create model with multi-layer dictionary\n",
        "  def __init__(self,dictionary):\n",
        "    if(type(dictionary) is dict):\n",
        "      global model_value\n",
        "      model_value.update(dictionary) \n",
        "    else:\n",
        "      print(\"MODEL; model not initialized, input is of type\" + type(dictionary)) \n",
        " \n",
        " \n",
        "  #INITIALIZING FUNCTIONS FOR MODEL CLASS\n",
        "\n",
        "  def add_layer(self,key,value):\n",
        "    # if(type(value) is __main__.layer and isinstance(key, string_types)):\n",
        "      global model_value\n",
        "      model_value[key]= value\n",
        "      return model_value\n",
        "    # else:\n",
        "    #   print(\"model not initialized, value is of type\" + str(type(value))) \n",
        "    #   print(\"model not initialized, key is of type\" + str(type(key)))\n",
        "\n",
        "\n",
        "  def slide():\n",
        "    global mask1\n",
        "    global mask2\n",
        "    global model_value\n",
        "    \n",
        "    mask1 = [1]\n",
        "    mask2 = [2]\n",
        "    \n",
        "\n",
        "    for key in model_value.keys():\n",
        "      if key == input:\n",
        "        for key in model_value:\n",
        "          mask1= mit.dotproduct(mask1, model_value[key])\n",
        "          mask2= np.dot(mask2, model_value[key])\n",
        "\n",
        "      if key == weights:\n",
        "        for key in model_value:\n",
        "          mask1= mit.dotproduct(mask1, model_value[key])\n",
        "          mask2= np.dot(mask2, model_value[key])\n",
        "\n",
        "      if key == activation:\n",
        "        for key in model_value:\n",
        "          if str(activation_function) == str(ReLU):\n",
        "            # global layer_value\n",
        "            map(max(0, float(sample)), mask1)\n",
        " \n",
        "          if str(activation_function) == str(sigmoid):\n",
        "            # global layer_value7\n",
        "            map(1/(1+np.exp(- sample), mask1))\n",
        "    \n",
        "          if str(activation_function) == str(tanh):\n",
        "            # global layer_value\n",
        "            map(np.tanh, mask1)\n",
        "\n",
        "          if str(activation_function) == str(softmax):\n",
        "            # global layer_value  \n",
        "            sum(mask1)\n",
        "    \n",
        "    return mask1, mask2\n",
        "\n",
        "#for key, value in kwargs.items()\n",
        "\n",
        "  #def activate(activation_function): ## apply regex ##\n",
        "   \n",
        "\n",
        "\n",
        "\n"
      ]
    },
    {
      "cell_type": "markdown",
      "source": [
        "# New section"
      ],
      "metadata": {
        "id": "q8WP4qeXDRwf"
      }
    },
    {
      "cell_type": "code",
      "execution_count": null,
      "metadata": {
        "id": "rrK9HdXok-ZT"
      },
      "outputs": [],
      "source": [
        "#FUNCTIONS\n",
        " \n",
        "#takes in values to make a NODE\n",
        "def make_node(*argv):\n",
        "  sample = node(argv)\n",
        "  return sample\n",
        "\n",
        "\n",
        "#takes in nodes to make a LAYER\n",
        "def make_layer(argv):\n",
        "  holder=[]\n",
        "  count=0\n",
        "  for sample in argv:\n",
        "    #ensure sample/node/item/picture/sound/text is of type ___ MORE VARIATIONS OF PYTHON TYPES SHOULD BE ADDED FOR REGULAR DATA TYPES RECEIVABLE FROM REAL FEED \n",
        "    if(type(sample) is list or isinstance(sample, int) or isinstance(sample, float) or isinstance(sample, np.ndarray) or isinstance(sample, numpy.uint8) ):\n",
        "      count=count+1\n",
        "      # print(\"data format is of type\" +\" \"+ str(type(sample)))\n",
        "      # print(\"sample/data unit shape is\" + str(np.shape(sample)))\n",
        "      # print(sample)\n",
        "      # print(\"count is \"+ str(count) +\"\\n\")\n",
        "      # print(\"\\n\")\n",
        "      # print(\"\\n\")\n",
        "      sample_node = make_node(sample)\n",
        "      holder.append(sample_node)\n",
        "\n",
        "    else:\n",
        "      print(\"CANNOT MAKE_LAYER(); layer nodes are not of applicable type int, float or list, troubleshoot\" + \"\\n nodes are of type:\" + str(type(sample)) )\n",
        "      # print(\"\\n\")\n",
        "      # print(\"\\n\")\n",
        "\n",
        "  layer_string_of_nodes= layer(holder)\n",
        "  return layer_string_of_nodes\n",
        "\n",
        "\n",
        "#takes in layers to make a MODEL\n",
        "def make_model(**kwargs):\n",
        "  model_hold={}\n",
        "  for key, value in kwargs.items():\n",
        "     model_hold[key]= value \n",
        "  model_string_of_layers = model(model_hold)\n",
        "  return model_string_of_layers\n",
        "\n",
        "\n",
        "\n",
        "######## WEIGHT MAKER || USER chooses dimensions ###############################\n",
        "################################################################################\n",
        "def weight_maker():\n",
        "  rows = input('Enter the desired row dimension of your weights: ')\n",
        "  rows = int(rows)\n",
        "\n",
        "  columns = input('Enter the desired column dimension of your weights: ')\n",
        "  columns = int(columns)\n",
        "\n",
        "  weights =  np.random.randint(0,10,size=(rows,columns))\n",
        "  norm = np.linalg.norm(weights)\n",
        "  weights = weights/norm\n",
        "\n",
        "  return weights\n",
        "################################################################################\n",
        "################################################################################\n"
      ]
    },
    {
      "cell_type": "code",
      "execution_count": null,
      "metadata": {
        "id": "-lcvSxLBB9uI",
        "colab": {
          "base_uri": "https://localhost:8080/"
        },
        "outputId": "7347e08b-f6e0-410b-fd44-b406e6138250"
      },
      "outputs": [
        {
          "name": "stdout",
          "output_type": "stream",
          "text": [
            "Enter the desired row dimension of your weights: 7\n",
            "Enter the desired column dimension of your weights: 9\n"
          ]
        }
      ],
      "source": [
        " #MAIN CODE\n",
        "from six import string_types\n",
        "import numpy\n",
        "import numpy as np\n",
        "from keras.datasets import mnist\n",
        "from matplotlib import pyplot\n",
        "#from operator import mul\n",
        "import more_itertools as mit\n",
        "import random\n",
        "\n",
        "(train_X, train_y), (test_X, test_y) = mnist.load_data()\n",
        "\n",
        "input_layer = make_layer(train_X)\n",
        "class_layer = make_layer(test_y)\n",
        "weights = weight_maker()\n",
        "weights_layer = make_layer(weights)\n",
        "\n",
        "\n",
        "\n",
        "\n",
        "#Activation_layer = make_layer()\n",
        "\n",
        "\n",
        "\n",
        "#make model by appending all layers\n",
        "mlp1 = make_model(input = input_layer, classs = class_layer, weights1 = weights_layer)\n"
      ]
    },
    {
      "cell_type": "code",
      "source": [
        "print(mlp1)\n"
      ],
      "metadata": {
        "id": "yTOGg8X8nfw5",
        "colab": {
          "base_uri": "https://localhost:8080/"
        },
        "outputId": "2e741c79-62bd-49d5-9bc6-273d30eb3192"
      },
      "execution_count": null,
      "outputs": [
        {
          "output_type": "stream",
          "name": "stdout",
          "text": [
            "<__main__.model object at 0x7f383d8986d0>\n"
          ]
        }
      ]
    },
    {
      "cell_type": "markdown",
      "metadata": {
        "id": "P_LRErTd21bm"
      },
      "source": []
    }
  ],
  "metadata": {
    "colab": {
      "provenance": [],
      "authorship_tag": "ABX9TyO8AZtgAYnrsd6Y9ZeuW2AR",
      "include_colab_link": true
    },
    "kernelspec": {
      "display_name": "Python 3",
      "name": "python3"
    },
    "language_info": {
      "name": "python"
    }
  },
  "nbformat": 4,
  "nbformat_minor": 0
}